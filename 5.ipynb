{
 "cells": [
  {
   "cell_type": "code",
   "execution_count": null,
   "metadata": {
    "vscode": {
     "languageId": "plaintext"
    }
   },
   "outputs": [],
   "source": [
    "# Step 1 & 2: Import libraries and load the dataset\n",
    "import pandas as pd\n",
    "from scipy.cluster.hierarchy import linkage, dendrogram, fcluster\n",
    "import matplotlib.pyplot as plt\n",
    "\n",
    "# Load dataset and extract features and varieties\n",
    "seeds_df = pd.read_csv('seeds-less-rows.csv')\n",
    "varieties = list(seeds_df.pop('grain_variety'))\n",
    "samples = seeds_df.values\n",
    "\n",
    "# Step 3: Perform hierarchical clustering\n",
    "mergings = linkage(samples, method='complete')\n",
    "dendrogram(mergings, labels=varieties, leaf_rotation=90, leaf_font_size=6)\n",
    "plt.show()\n",
    "\n",
    "# Step 4 & 5: Obtain flat clusters\n",
    "labels = fcluster(mergings, 6, criterion='distance')\n",
    "\n",
    "# Step 6: Create a DataFrame for labels and varieties\n",
    "df = pd.DataFrame({'labels': labels, 'varieties': varieties})\n",
    "\n",
    "# Step 7: Create cross-tabulation\n",
    "ct = pd.crosstab(df['labels'], df['varieties'])\n",
    "\n",
    "# Step 8: Display the cross-tabulation\n",
    "print(ct)\n"
   ]
  }
 ],
 "metadata": {
  "language_info": {
   "name": "python"
  }
 },
 "nbformat": 4,
 "nbformat_minor": 2
}
