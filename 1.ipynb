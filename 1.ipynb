{
 "cells": [
  {
   "cell_type": "code",
   "execution_count": null,
   "metadata": {
    "vscode": {
     "languageId": "plaintext"
    }
   },
   "outputs": [],
   "source": [
    "# Step 1: Importing libraries\n",
    "import numpy as np\n",
    "import pandas as pd\n",
    "import matplotlib.pyplot as plt\n",
    "from sklearn.model_selection import train_test_split\n",
    "from sklearn.linear_model import LinearRegression\n",
    "from sklearn.metrics import r2_score\n",
    "\n",
    "# Step 2: Load dataset\n",
    "df = pd.read_csv(\"housing_prices_SLR.csv\")\n",
    "print(df.head())\n",
    "\n",
    "# Step 3: Feature matrix (X) and target vector (y)\n",
    "X = df[['AREA']].values  # Feature matrix (House Area)\n",
    "y = df['PRICE'].values   # Target vector (House Price)\n",
    "\n",
    "# Step 4: Split the data (80% training, 20% testing)\n",
    "X_train, X_test, y_train, y_test = train_test_split(X, y, test_size=0.2, random_state=100)\n",
    "\n",
    "# Step 5: Train the Simple Linear Regression model\n",
    "lr_model = LinearRegression()  # Model instance\n",
    "lr_model.fit(X_train, y_train)  # Train the model\n",
    "\n",
    "# Coefficients and intercept\n",
    "print(\"Intercept (b0):\", lr_model.intercept_)\n",
    "print(\"Coefficient (b1):\", lr_model.coef_)\n",
    "\n",
    "# Step 6: Predict house prices\n",
    "y_train_pred = lr_model.predict(X_train)\n",
    "y_test_pred = lr_model.predict(X_test)\n",
    "\n",
    "# Step 7: Calculate R² scores\n",
    "r2_train = r2_score(y_train, y_train_pred)\n",
    "r2_test = r2_score(y_test, y_test_pred)\n",
    "\n",
    "print(\"R² Score (Train):\", r2_train)\n",
    "print(\"R² Score (Test):\", r2_test)\n",
    "\n",
    "# Step 8: Visualizing the model\n",
    "plt.scatter(X_train, y_train, color='red', label='Training Data')\n",
    "plt.scatter(X_test, y_test, color='blue', label='Testing Data')\n",
    "plt.plot(X_train, y_train_pred, color='yellow', label='Regression Line')\n",
    "\n",
    "plt.xlabel(\"Area\")\n",
    "plt.ylabel(\"Price\")\n",
    "plt.legend()\n",
    "plt.show()\n"
   ]
  },
  {
   "cell_type": "code",
   "execution_count": null,
   "metadata": {
    "vscode": {
     "languageId": "plaintext"
    }
   },
   "outputs": [],
   "source": [
    "# Importing Libraries\n",
    "import pandas as pd\n",
    "import matplotlib.pyplot as plt\n",
    "from sklearn.linear_model import LinearRegression\n",
    "from sklearn.metrics import r2_score\n",
    "\n",
    "# Reading Data\n",
    "data = pd.read_csv('headbrain.csv')\n",
    "\n",
    "# Selecting the variables\n",
    "X = data['Head Size(cm^3)'].values.reshape(-1, 1)  # Reshape for scikit-learn\n",
    "Y = data['Brain Weight(grams)'].values\n",
    "\n",
    "# Creating a Linear Regression model\n",
    "model = LinearRegression()\n",
    "\n",
    "# Fitting the model to the data\n",
    "model.fit(X, Y)\n",
    "\n",
    "# Predicting brain weights\n",
    "Y_pred = model.predict(X)\n",
    "\n",
    "# Printing coefficients\n",
    "print(f\"Slope (b1): {model.coef_[0]}\")\n",
    "print(f\"Intercept (b0): {model.intercept_}\")\n",
    "\n",
    "# Calculating R2 Score\n",
    "r2 = r2_score(Y, Y_pred)\n",
    "print(f\"R2 Score: {r2}\")\n",
    "\n",
    "# Plotting the data and regression line\n",
    "plt.scatter(X, Y, color='orange', label='Scatter Plot')  # Original data points\n",
    "plt.plot(X, Y_pred, color='green', label='Regression Line')  # Best-fit line\n",
    "plt.xlabel('Head Size (cm³)')\n",
    "plt.ylabel('Brain Weight (grams)')\n",
    "plt.legend()\n",
    "plt.show()\n"
   ]
  }
 ],
 "metadata": {
  "language_info": {
   "name": "python"
  }
 },
 "nbformat": 4,
 "nbformat_minor": 2
}
