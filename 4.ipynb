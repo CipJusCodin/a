{
 "cells": [
  {
   "cell_type": "code",
   "execution_count": null,
   "metadata": {
    "vscode": {
     "languageId": "plaintext"
    }
   },
   "outputs": [],
   "source": [
    "# Step 1: Import libraries and load dataset\n",
    "import pandas as pd\n",
    "import matplotlib.pyplot as plt\n",
    "from sklearn.cluster import KMeans\n",
    "\n",
    "# Load the dataset\n",
    "df = pd.read_csv('ch1ex1.csv')\n",
    "points = df.values\n",
    "\n",
    "# Step 2: Perform KMeans clustering\n",
    "model = KMeans(n_clusters=3, random_state=42)\n",
    "labels = model.fit_predict(points)\n",
    "\n",
    "# Step 3: Scatter plot of data points colored by cluster labels\n",
    "plt.scatter(points[:, 0], points[:, 1], c=labels)\n",
    "\n",
    "# Step 4: Add cluster centroids\n",
    "centroids = model.cluster_centers_\n",
    "plt.scatter(centroids[:, 0], centroids[:, 1], marker='X', s=200, color='red')\n",
    "\n",
    "# Show the final plot\n",
    "plt.show()\n"
   ]
  }
 ],
 "metadata": {
  "language_info": {
   "name": "python"
  }
 },
 "nbformat": 4,
 "nbformat_minor": 2
}
